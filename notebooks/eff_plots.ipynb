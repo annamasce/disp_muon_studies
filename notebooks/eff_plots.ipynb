{
 "cells": [
  {
   "cell_type": "code",
   "execution_count": 37,
   "id": "53b4a8e0",
   "metadata": {},
   "outputs": [],
   "source": [
    "import sys\n",
    "sys.path.append('../')\n",
    "import pickle\n",
    "import matplotlib.pyplot as plt\n",
    "from array import array\n",
    "import ROOT \n",
    "from ROOT import TH1D"
   ]
  },
  {
   "cell_type": "code",
   "execution_count": 15,
   "id": "0d9e23bd",
   "metadata": {},
   "outputs": [],
   "source": [
    "%%cpp\n",
    "TH1D fill_histo(std::vector<double> values, int n_bins, double v_min, double v_max){\n",
    "    TH1D histo(\"h\", \"\", n_bins, v_min, v_max);\n",
    "    for (int i=0; i<values.size(); i++){\n",
    "        histo.Fill(values.at(i));\n",
    "    }\n",
    "    return histo;\n",
    "};"
   ]
  },
  {
   "cell_type": "code",
   "execution_count": 16,
   "id": "85444dfa",
   "metadata": {},
   "outputs": [],
   "source": [
    "def set_hist_style(h, title, title_x, title_y):\n",
    "    h.GetYaxis().SetTitle(title_y)\n",
    "    h.GetYaxis().SetLabelSize(0.05)\n",
    "    h.GetYaxis().SetTitleSize(0.05)\n",
    "    h.GetYaxis().SetTitleOffset(1.2)\n",
    "    \n",
    "    h.GetXaxis().SetTitle(title_x)\n",
    "    h.GetXaxis().SetLabelSize(0.05)\n",
    "    h.GetXaxis().SetTitleSize(0.05)\n",
    "    h.GetXaxis().SetTitleOffset(1.2)\n",
    "    \n",
    "    return h"
   ]
  },
  {
   "cell_type": "code",
   "execution_count": 22,
   "id": "6d2d02fd",
   "metadata": {},
   "outputs": [],
   "source": [
    "result_dir = \"/Users/mascella/workspace/disp_muon_studies/Results/\"\n",
    "tag = '220819_noSVprob_cut'\n",
    "with open(result_dir + f'result_{tag}.pkl', 'rb') as f:\n",
    "    result = pickle.load(f)"
   ]
  },
  {
   "cell_type": "code",
   "execution_count": 23,
   "id": "86b050c3",
   "metadata": {},
   "outputs": [
    {
     "data": {
      "image/png": "[encoded data removed]",
      "text/plain": [
       "<Figure size 432x288 with 1 Axes>"
      ]
     },
     "metadata": {
      "needs_background": "light"
     },
     "output_type": "display_data"
    }
   ],
   "source": [
    "plt.hist(result[\"den_dxy_gen\"][\"LL\"].value, range=[0, 500], bins=50)\n",
    "plt.hist(result[\"num_dxy_gen\"][\"LL\"].value, range=[0, 500], bins=50)\n",
    "plt.show()"
   ]
  },
  {
   "cell_type": "code",
   "execution_count": 26,
   "id": "7040585d",
   "metadata": {},
   "outputs": [
    {
     "name": "stderr",
     "output_type": "stream",
     "text": [
      "Warning in <TCanvas::Constructor>: Deleting canvas with same name: c\n",
      "Warning in <TROOT::Append>: Replacing existing TH1: h (Potential memory leak).\n",
      "Warning in <TROOT::Append>: Replacing existing TH1: h (Potential memory leak).\n",
      "Info in <TCanvas::Print>: pdf file Eff_dxy_gen_noProb_cut_dsLL.pdf has been created\n"
     ]
    }
   ],
   "source": [
    "c = ROOT.TCanvas(\"c\", \"\", 1)\n",
    "with open(result_dir + f'result_{tag}.pkl', 'rb') as f:\n",
    "    result = pickle.load(f)\n",
    "num = array(\"d\", result[\"num_dxy_gen\"][\"LL\"].value)\n",
    "den = array(\"d\", result[\"den_dxy_gen\"][\"LL\"].value)\n",
    "# c = ROOT.TCanvas(\"c2\", \"\", 1)\n",
    "hist_num = ROOT.fill_histo(num, 50, 0, 500)\n",
    "hist_den = ROOT.fill_histo(den, 50, 0, 500)\n",
    "ratio = ROOT.TGraphAsymmErrors()\n",
    "ratio.Divide(hist_num, hist_den)\n",
    "ratio.SetLineColor(ROOT.kBlue)\n",
    "ratio.SetMarkerColor(ROOT.kBlue)\n",
    "ratio.SetMarkerStyle(20)\n",
    "ratio.SetMarkerSize(0.5)\n",
    "# hist.SetStats(0)\n",
    "ratio = set_hist_style(ratio, \"\", \"L_{xy} [cm]\", \"Efficiency\")\n",
    "ratio.Draw(\"AP\")\n",
    "ROOT.gPad.SetLeftMargin(0.2)\n",
    "ROOT.gPad.SetBottomMargin(0.2)\n",
    "\n",
    "# c.Print(\"Eff_dxy_gen_noProb_cut_dsLL.pdf\")\n",
    "c.Draw()"
   ]
  },
  {
   "cell_type": "code",
   "execution_count": null,
   "id": "00f6146e",
   "metadata": {},
   "outputs": [],
   "source": []
  },
  {
   "cell_type": "code",
   "execution_count": 34,
   "id": "54a61023",
   "metadata": {},
   "outputs": [
    {
     "name": "stderr",
     "output_type": "stream",
     "text": [
      "Warning in <TCanvas::Constructor>: Deleting canvas with same name: c\n",
      "Warning in <TROOT::Append>: Replacing existing TH1: h (Potential memory leak).\n",
      "Warning in <TROOT::Append>: Replacing existing TH1: h (Potential memory leak).\n",
      "Warning in <TGraphAsymmErrors::Divide>: Number of graph points is different than histogram bins - 4 points have been skipped\n",
      "Warning in <TROOT::Append>: Replacing existing TH1: h (Potential memory leak).\n",
      "Warning in <TROOT::Append>: Replacing existing TH1: h (Potential memory leak).\n",
      "Warning in <TGraphAsymmErrors::Divide>: Number of graph points is different than histogram bins - 4 points have been skipped\n",
      "Info in <TCanvas::Print>: pdf file Eff_dxy_gen_compare_dsHNL1.pdf has been created\n"
     ]
    }
   ],
   "source": [
    "c = ROOT.TCanvas(\"c\", \"\", 1)\n",
    "mg = ROOT.TMultiGraph(\"mg\",\"\")\n",
    "tag_dict = {'220819_noSVprob_cut': \"No SV prob. cut\", '220819_SVprob_cut_1e-3':  \"SV prob. > 0.001\"}\n",
    "colors = [ROOT.kBlue, ROOT.kRed]\n",
    "for i, tag in enumerate(tag_dict):\n",
    "    with open(result_dir + f'result_{tag}.pkl', 'rb') as f:\n",
    "        result = pickle.load(f)\n",
    "    num = array(\"d\", result[\"num_dxy_gen\"][\"HNL1\"].value)\n",
    "    den = array(\"d\", result[\"den_dxy_gen\"][\"HNL1\"].value)\n",
    "    # c = ROOT.TCanvas(\"c2\", \"\", 1)\n",
    "    hist_num = ROOT.fill_histo(num, 50, 0, 500)\n",
    "    hist_den = ROOT.fill_histo(den, 50, 0, 500)\n",
    "    ratio = ROOT.TGraphAsymmErrors()\n",
    "    ratio.Divide(hist_num, hist_den)\n",
    "    ratio.SetLineColor(colors[i])\n",
    "    ratio.SetMarkerColor(colors[i])\n",
    "    ratio.SetMarkerStyle(20)\n",
    "    ratio.SetMarkerSize(0.5)\n",
    "    ratio.SetTitle(tag_dict[tag])\n",
    "    mg.Add(ratio)\n",
    "ROOT.gPad.SetLeftMargin(0.2)\n",
    "ROOT.gPad.SetBottomMargin(0.2)\n",
    "mg = set_hist_style(mg, \"\", \"L_{xy} [cm]\", \"Efficiency\")\n",
    "mg.Draw(\"ap\")\n",
    "c.BuildLegend()\n",
    "\n",
    "c.Print(\"Eff_dxy_gen_compare_dsHNL1.pdf\")\n",
    "# c.Draw()"
   ]
  },
  {
   "cell_type": "code",
   "execution_count": 42,
   "id": "978c07ec",
   "metadata": {},
   "outputs": [
    {
     "name": "stdout",
     "output_type": "stream",
     "text": [
      "['two_muons_acc', 'two_dsa', 'dsa_selection', 'gen_matching', 'converging_fit', 'sv_prob_cut']\n",
      "13737\n",
      "6893\n",
      "6893\n",
      "6535\n",
      "6461\n",
      "5591\n"
     ]
    }
   ],
   "source": [
    "from muon_analysis import MuonAnalysis\n",
    "print(MuonAnalysis.get_selections())\n",
    "for sel in MuonAnalysis.get_selections():\n",
    "    print(result[f\"n_ev_{sel}\"][\"LL\"])"
   ]
  },
  {
   "cell_type": "code",
   "execution_count": null,
   "id": "e43f2ca2",
   "metadata": {},
   "outputs": [],
   "source": []
  }
 ],
 "metadata": {
  "kernelspec": {
   "display_name": "Python 3",
   "language": "python",
   "name": "python3"
  },
  "language_info": {
   "codemirror_mode": {
    "name": "ipython",
    "version": 3
   },
   "file_extension": ".py",
   "mimetype": "text/x-python",
   "name": "python",
   "nbconvert_exporter": "python",
   "pygments_lexer": "ipython3",
   "version": "3.7.10"
  }
 },
 "nbformat": 4,
 "nbformat_minor": 5
}
