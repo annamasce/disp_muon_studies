{
 "cells": [
  {
   "cell_type": "code",
   "execution_count": 1,
   "id": "21098548",
   "metadata": {},
   "outputs": [
    {
     "name": "stdout",
     "output_type": "stream",
     "text": [
      "Welcome to JupyROOT 6.24/00\n"
     ]
    }
   ],
   "source": [
    "import pickle\n",
    "import matplotlib.pyplot as plt\n",
    "from array import array\n",
    "import ROOT \n",
    "from ROOT import TH1D"
   ]
  },
  {
   "cell_type": "code",
   "execution_count": 2,
   "id": "101d5c24",
   "metadata": {},
   "outputs": [],
   "source": [
    "%%cpp\n",
    "TH1D fill_histo(std::vector<double> values, int n_bins, double v_min, double v_max){\n",
    "    TH1D histo(\"h\", \"\", n_bins, v_min, v_max);\n",
    "    for (int i=0; i<values.size(); i++){\n",
    "        histo.Fill(values.at(i));\n",
    "    }\n",
    "    return histo;\n",
    "};"
   ]
  },
  {
   "cell_type": "code",
   "execution_count": 3,
   "id": "770307cc",
   "metadata": {},
   "outputs": [],
   "source": [
    "def set_hist_style(h, title, title_x, title_y):\n",
    "    h.GetYaxis().SetTitle(title_y)\n",
    "    h.GetYaxis().SetLabelSize(0.05)\n",
    "    h.GetYaxis().SetTitleSize(0.05)\n",
    "    h.GetYaxis().SetTitleOffset(1.2)\n",
    "    \n",
    "    h.GetXaxis().SetTitle(title_x)\n",
    "    h.GetXaxis().SetLabelSize(0.05)\n",
    "    h.GetXaxis().SetTitleSize(0.05)\n",
    "    h.GetXaxis().SetTitleOffset(1.2)\n",
    "    \n",
    "    return h"
   ]
  },
  {
   "cell_type": "code",
   "execution_count": 4,
   "id": "0df64df4",
   "metadata": {},
   "outputs": [],
   "source": [
    "result_dir = \"/Users/mascella/workspace/disp_muon_studies/Results/\"\n",
    "tag = 'test'\n",
    "with open(result_dir + f'result_{tag}.pkl', 'rb') as f:\n",
    "    result = pickle.load(f)"
   ]
  },
  {
   "cell_type": "code",
   "execution_count": 5,
   "id": "7918f51a",
   "metadata": {},
   "outputs": [
    {
     "data": {
      "image/png": "[encoded data removed]",
      "text/plain": [
       "<Figure size 432x288 with 1 Axes>"
      ]
     },
     "metadata": {
      "needs_background": "light"
     },
     "output_type": "display_data"
    }
   ],
   "source": [
    "plt.hist(result[\"den_dxy_gen\"][\"HNL1\"].value, range=[0, 500], bins=50)\n",
    "plt.hist(result[\"num_dxy_gen\"][\"HNL1\"].value, range=[0, 500], bins=50)\n",
    "plt.show()"
   ]
  },
  {
   "cell_type": "code",
   "execution_count": 6,
   "id": "4364d8bf",
   "metadata": {},
   "outputs": [
    {
     "name": "stderr",
     "output_type": "stream",
     "text": [
      "Warning in <TROOT::Append>: Replacing existing TH1: h (Potential memory leak).\n",
      "Warning in <TGraphAsymmErrors::Divide>: Number of graph points is different than histogram bins - 14 points have been skipped\n"
     ]
    },
    {
     "data": {
      "image/png": "[encoded data removed]",
      "text/plain": [
       "<IPython.core.display.Image object>"
      ]
     },
     "metadata": {},
     "output_type": "display_data"
    }
   ],
   "source": [
    "c = ROOT.TCanvas(\"c\", \"\", 1)\n",
    "tag = 'prob_cut'\n",
    "with open(result_dir + f'result_{tag}.pkl', 'rb') as f:\n",
    "    result = pickle.load(f)\n",
    "num = array(\"d\", result[\"num_dxy_gen\"][\"HNL1\"].value)\n",
    "den = array(\"d\", result[\"den_dxy_gen\"][\"HNL1\"].value)\n",
    "# c = ROOT.TCanvas(\"c2\", \"\", 1)\n",
    "hist_num = ROOT.fill_histo(num, 50, 0, 700)\n",
    "hist_den = ROOT.fill_histo(den, 50, 0, 700)\n",
    "ratio = ROOT.TGraphAsymmErrors()\n",
    "ratio.Divide(hist_num, hist_den)\n",
    "ratio.SetLineColor(ROOT.kBlue)\n",
    "ratio.SetMarkerColor(ROOT.kBlue)\n",
    "# hist.SetStats(0)\n",
    "ratio = set_hist_style(ratio, \"\", \"L_{xy} [cm]\", \"Efficiency\")\n",
    "ratio.Draw()\n",
    "ROOT.gPad.SetLeftMargin(0.2)\n",
    "ROOT.gPad.SetBottomMargin(0.2)\n",
    "\n",
    "# c.Print(\"Eff_dxy_gen_probcut_1e-3.pdf\")\n",
    "c.Draw()"
   ]
  },
  {
   "cell_type": "code",
   "execution_count": null,
   "id": "2bea1b7e",
   "metadata": {},
   "outputs": [],
   "source": []
  }
 ],
 "metadata": {
  "kernelspec": {
   "display_name": "Python 3",
   "language": "python",
   "name": "python3"
  },
  "language_info": {
   "codemirror_mode": {
    "name": "ipython",
    "version": 3
   },
   "file_extension": ".py",
   "mimetype": "text/x-python",
   "name": "python",
   "nbconvert_exporter": "python",
   "pygments_lexer": "ipython3",
   "version": "3.7.10"
  }
 },
 "nbformat": 4,
 "nbformat_minor": 5
}
