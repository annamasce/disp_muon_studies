{
 "cells": [
  {
   "cell_type": "code",
   "execution_count": 63,
   "id": "53b4a8e0",
   "metadata": {},
   "outputs": [],
   "source": [
    "import sys\n",
    "sys.path.append('../')\n",
    "import pickle\n",
    "import matplotlib.pyplot as plt\n",
    "from array import array\n",
    "import numpy as np\n",
    "import ROOT \n",
    "from ROOT import TH1D\n",
    "\n",
    "#set the tdr style for root plotting\n",
    "import tdrstyle\n",
    "tdrstyle.setTDRStyle()\n",
    "ROOT.gStyle.SetPadTickX(1)  # To get tick marks on the opposite side of the frame\n",
    "ROOT.gStyle.SetPadTickY(1)\n",
    "ROOT.gStyle.SetLegendBorderSize(0) # Erase border of legend"
   ]
  },
  {
   "cell_type": "code",
   "execution_count": 64,
   "id": "0d9e23bd",
   "metadata": {},
   "outputs": [],
   "source": [
    "%%cpp\n",
    "TH1D fill_histo(std::vector<double> values, int n_bins, double v_min, double v_max){\n",
    "    TH1D histo(\"h\", \"\", n_bins, v_min, v_max);\n",
    "    for (int i=0; i<values.size(); i++){\n",
    "        histo.Fill(values.at(i));\n",
    "    }\n",
    "    return histo;\n",
    "};"
   ]
  },
  {
   "cell_type": "code",
   "execution_count": 65,
   "id": "85444dfa",
   "metadata": {},
   "outputs": [],
   "source": [
    "def set_hist_style(h, title, title_x, title_y):\n",
    "    h.GetYaxis().SetTitle(title_y)\n",
    "    h.GetYaxis().SetLabelSize(0.05)\n",
    "    h.GetYaxis().SetTitleSize(0.05)\n",
    "    h.GetYaxis().SetTitleOffset(1.2)\n",
    "    \n",
    "    h.GetXaxis().SetTitle(title_x)\n",
    "    h.GetXaxis().SetLabelSize(0.05)\n",
    "    h.GetXaxis().SetTitleSize(0.05)\n",
    "    h.GetXaxis().SetTitleOffset(1.2)\n",
    "    \n",
    "    return h"
   ]
  },
  {
   "cell_type": "code",
   "execution_count": 35,
   "id": "6d2d02fd",
   "metadata": {},
   "outputs": [],
   "source": [
    "result_dir = \"/Users/mascella/workspace/disp_muon_studies/Results/\"\n",
    "tag = '230125'\n",
    "with open(result_dir + f'result_{tag}.pkl', 'rb') as f:\n",
    "    result = pickle.load(f)"
   ]
  },
  {
   "cell_type": "code",
   "execution_count": 60,
   "id": "86b050c3",
   "metadata": {},
   "outputs": [
    {
     "data": {
      "image/png": "[encoded data removed]",
      "text/plain": [
       "<Figure size 432x288 with 1 Axes>"
      ]
     },
     "metadata": {
      "needs_background": "light"
     },
     "output_type": "display_data"
    },
    {
     "name": "stdout",
     "output_type": "stream",
     "text": [
      "6095\n",
      "5907\n"
     ]
    }
   ],
   "source": [
    "var = \"dimuon_pt_gen\"\n",
    "range_var = [0, 700]\n",
    "var_name = \"gen p_{T} [GeV]\"\n",
    "dataset = \"2Mu2J M-20\"\n",
    "plt.hist(result[f\"den_{var}\"][f\"{dataset}\"].value, range=range_var, bins=20, alpha=0.5)\n",
    "plt.hist(result[f\"num_{var}\"][f\"{dataset}\"].value, range=range_var, bins=20, alpha=0.5)\n",
    "plt.show()\n",
    "print(len(result[f\"den_{var}\"][f\"{dataset}\"].value))\n",
    "print(len(result[f\"num_{var}\"][f\"{dataset}\"].value))"
   ]
  },
  {
   "cell_type": "code",
   "execution_count": 61,
   "id": "7040585d",
   "metadata": {},
   "outputs": [
    {
     "name": "stderr",
     "output_type": "stream",
     "text": [
      "Warning in <TCanvas::Constructor>: Deleting canvas with same name: c\n",
      "Warning in <TROOT::Append>: Replacing existing TH1: h (Potential memory leak).\n",
      "Warning in <TROOT::Append>: Replacing existing TH1: h (Potential memory leak).\n",
      "Info in <TCanvas::Print>: pdf file ../Plots/230125_Eff_svFix_dimuon_pt_gen_noProbCut_2Mu2J M-20.pdf has been created\n"
     ]
    }
   ],
   "source": [
    "c = ROOT.TCanvas(\"c\", \"\", 1)\n",
    "with open(result_dir + f'result_{tag}.pkl', 'rb') as f:\n",
    "    result = pickle.load(f)\n",
    "num = array(\"d\", result[f\"num_{var}\"][f\"{dataset}\"].value)\n",
    "den = array(\"d\", result[f\"den_{var}\"][f\"{dataset}\"].value)\n",
    "# c = ROOT.TCanvas(\"c2\", \"\", 1)\n",
    "hist_num = ROOT.fill_histo(num, 50, range_var[0], range_var[1])\n",
    "hist_den = ROOT.fill_histo(den, 50, range_var[0], range_var[1])\n",
    "ratio = ROOT.TGraphAsymmErrors()\n",
    "ratio.Divide(hist_num, hist_den)\n",
    "ratio.SetLineColor(ROOT.kBlue)\n",
    "ratio.SetMarkerColor(ROOT.kBlue)\n",
    "ratio.SetMarkerStyle(20)\n",
    "ratio.SetMarkerSize(0.5)\n",
    "# hist.SetStats(0)\n",
    "ratio = set_hist_style(ratio, \"\", var_name, \"Efficiency\")\n",
    "ratio.Draw(\"AP\")\n",
    "ROOT.gPad.SetLeftMargin(0.2)\n",
    "ROOT.gPad.SetBottomMargin(0.2)\n",
    "\n",
    "c.Print(f\"../Plots/{tag}_Eff_svFix_{var}_noProbCut_{dataset}.pdf\")\n",
    "# c.Draw()"
   ]
  },
  {
   "cell_type": "code",
   "execution_count": 67,
   "id": "54a61023",
   "metadata": {},
   "outputs": [
    {
     "name": "stderr",
     "output_type": "stream",
     "text": [
      "Warning in <TCanvas::Constructor>: Deleting canvas with same name: c\n",
      "Warning in <TROOT::Append>: Replacing existing TH1: h (Potential memory leak).\n",
      "Warning in <TROOT::Append>: Replacing existing TH1: h (Potential memory leak).\n",
      "Warning in <TGraphAsymmErrors::Divide>: Number of graph points is different than histogram bins - 3 points have been skipped\n",
      "Warning in <TROOT::Append>: Replacing existing TH1: h (Potential memory leak).\n",
      "Warning in <TROOT::Append>: Replacing existing TH1: h (Potential memory leak).\n",
      "Warning in <TGraphAsymmErrors::Divide>: Number of graph points is different than histogram bins - 1 points have been skipped\n"
     ]
    },
    {
     "data": {
      "image/png": "[encoded data removed]",
      "text/plain": [
       "<IPython.core.display.Image object>"
      ]
     },
     "metadata": {},
     "output_type": "display_data"
    }
   ],
   "source": [
    "result_dir = \"/Users/mascella/workspace/disp_muon_studies/Results/\"\n",
    "var = \"dimuon_deltaR\"\n",
    "range_var = [0, 2]\n",
    "var_name = \"gen #DeltaR\"\n",
    "\n",
    "c = ROOT.TCanvas(\"c\", \"\", 1)\n",
    "mg = ROOT.TMultiGraph(\"mg\",\"\")\n",
    "tag_dict = {'230120_MH-1000_MFF-20': \"MH: 1000 GeV, MFF: 20 GeV\", '230120_MH-1000_MFF-150':  \"MH: 1000 GeV, MFF: 150 GeV\"}\n",
    "colors = [ROOT.kBlue, ROOT.kRed]\n",
    "for i, tag in enumerate(tag_dict):\n",
    "    with open(result_dir + f'result_{tag}.pkl', 'rb') as f:\n",
    "        result = pickle.load(f)\n",
    "    num = array(\"d\", result[f\"num_{var}\"][\"2Mu2J\"].value)\n",
    "    den = array(\"d\", result[f\"den_{var}\"][\"2Mu2J\"].value)\n",
    "    # c = ROOT.TCanvas(\"c2\", \"\", 1)\n",
    "    hist_num = ROOT.fill_histo(num, 50, range_var[0], range_var[1])\n",
    "    hist_den = ROOT.fill_histo(den, 50, range_var[0], range_var[1])\n",
    "    ratio = ROOT.TGraphAsymmErrors()\n",
    "    ratio.Divide(hist_num, hist_den)\n",
    "    ratio.SetLineColor(colors[i])\n",
    "    ratio.SetMarkerColor(colors[i])\n",
    "    ratio.SetMarkerStyle(20)\n",
    "    ratio.SetMarkerSize(0.5)\n",
    "    ratio.SetTitle(tag_dict[tag])\n",
    "    mg.Add(ratio)\n",
    "ROOT.gPad.SetLeftMargin(0.2)\n",
    "ROOT.gPad.SetBottomMargin(0.2)\n",
    "mg = set_hist_style(mg, \"\", var_name, \"Efficiency\")\n",
    "mg.Draw(\"ap\")\n",
    "c.BuildLegend(0.25, 0.25, 0.7, 0.5)\n",
    "\n",
    "# c.Print(\"230120_Eff_dxy_gen_compare_2Mu2J_diffBoost.pdf\")\n",
    "c.Draw()"
   ]
  },
  {
   "cell_type": "code",
   "execution_count": 8,
   "id": "978c07ec",
   "metadata": {},
   "outputs": [
    {
     "name": "stdout",
     "output_type": "stream",
     "text": [
      "['Lxy_gen', 'dimuon_deltaR_gen', 'dimuon_deltaEta_gen', 'dimuon_deltaPhi_gen', 'dimuon_pt_gen', 'dimuon_deltaR', 'dimuon_deltaEta', 'dimuon_deltaPhi', 'dimuon_pt', 'dxy_dsapair', 'dxy_dsapair_error', 'dxyz_dsapair', 'dz_dsapair']\n"
     ]
    }
   ],
   "source": [
    "from muon_analysis import MuonAnalysis\n",
    "print(MuonAnalysis.get_array_vars())"
   ]
  },
  {
   "cell_type": "code",
   "execution_count": null,
   "id": "e43f2ca2",
   "metadata": {},
   "outputs": [],
   "source": []
  }
 ],
 "metadata": {
  "kernelspec": {
   "display_name": "Python 3",
   "language": "python",
   "name": "python3"
  },
  "language_info": {
   "codemirror_mode": {
    "name": "ipython",
    "version": 3
   },
   "file_extension": ".py",
   "mimetype": "text/x-python",
   "name": "python",
   "nbconvert_exporter": "python",
   "pygments_lexer": "ipython3",
   "version": "3.7.10"
  }
 },
 "nbformat": 4,
 "nbformat_minor": 5
}
