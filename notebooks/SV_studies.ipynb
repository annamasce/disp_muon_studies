{
 "cells": [
  {
   "cell_type": "code",
   "execution_count": 1,
   "id": "b501ad86",
   "metadata": {},
   "outputs": [
    {
     "name": "stdout",
     "output_type": "stream",
     "text": [
      "Welcome to JupyROOT 6.24/00\n"
     ]
    }
   ],
   "source": [
    "import sys\n",
    "sys.path.append('../')\n",
    "import os\n",
    "import re\n",
    "import ROOT\n",
    "from ROOT import TH1D\n",
    "\n",
    "import numpy as np\n",
    "import matplotlib.pyplot as plt\n",
    "import awkward as ak\n",
    "import uproot\n",
    "\n",
    "from coffea.nanoevents import NanoEventsFactory\n",
    "from coffea.nanoevents import NanoAODSchema\n",
    "from coffea import processor, hist\n",
    "NanoAODSchema.warn_missing_crossrefs = True # no strict cross-references gives warning !"
   ]
  },
  {
   "cell_type": "code",
   "execution_count": 2,
   "id": "8d7e3638",
   "metadata": {},
   "outputs": [],
   "source": [
    "%%cpp\n",
    "TH1D fill_histo(std::vector<double> values, int n_bins, double v_min, double v_max){\n",
    "    TH1D histo(\"h\", \"\", n_bins, v_min, v_max);\n",
    "    for (int i=0; i<values.size(); i++){\n",
    "        histo.Fill(values.at(i));\n",
    "    }\n",
    "    return histo;\n",
    "};"
   ]
  },
  {
   "cell_type": "code",
   "execution_count": 3,
   "id": "e0d6d907",
   "metadata": {},
   "outputs": [],
   "source": [
    "%%cpp\n",
    "TH2D fill_2d_histo(std::vector<double> x_values, std::vector<double> y_values, int n_xbins, double x_min, double x_max, int n_ybins, double y_min, double y_max){\n",
    "    TH2D histo(\"h\", \"\", n_xbins, x_min, x_max, n_ybins, y_min, y_max);\n",
    "    for (int i=0; i<x_values.size(); i++){\n",
    "        histo.Fill(x_values.at(i), y_values.at(i));\n",
    "    }\n",
    "    return histo;\n",
    "};"
   ]
  },
  {
   "cell_type": "code",
   "execution_count": 4,
   "id": "2364fab1",
   "metadata": {},
   "outputs": [],
   "source": [
    "def set_hist2d_style(h2, title, title_x, title_y):\n",
    "    h2.GetYaxis().SetTitle(title_y)\n",
    "    h2.GetYaxis().SetLabelSize(0.05)\n",
    "    h2.GetYaxis().SetTitleSize(0.05)\n",
    "    h2.GetYaxis().SetTitleOffset(1.2)\n",
    "    \n",
    "    h2.GetXaxis().SetTitle(title_x)\n",
    "    h2.GetXaxis().SetLabelSize(0.05)\n",
    "    h2.GetXaxis().SetTitleSize(0.05)\n",
    "    h2.GetXaxis().SetTitleOffset(1.2)\n",
    "    \n",
    "    return h2"
   ]
  },
  {
   "cell_type": "code",
   "execution_count": 61,
   "id": "e441625c",
   "metadata": {},
   "outputs": [
    {
     "name": "stdout",
     "output_type": "stream",
     "text": [
      "['Generator', 'DeepMETResponseTune', 'PSWeight', 'RawMET', 'fixedGridRhoFastjetCentralChargedPileUp', 'GenPart', 'PuppiMET', 'Muon', 'event', 'Jet', 'RawPuppiMET', 'DiMuon', 'genWeight', 'btagWeight', 'DSAMuon', 'GenMET', 'GenVisTau', 'run', 'GenJet', 'fixedGridRhoFastjetCentral', 'PatSTA', 'fixedGridRhoFastjetCentralNeutral', 'FsrPhoton', 'Photon', 'MET', 'luminosityBlock', 'genTtbarId', 'GenJetAK8', 'TrigObj', 'DeepMETResolutionTune', 'IsoTrack', 'DiDSAMuon', 'Electron', 'SubGenJetAK8', 'PV', 'OtherPV', 'fixedGridRhoFastjetCentralCalo', 'fixedGridRhoFastjetAll', 'CaloMET', 'TkMET', 'Pileup', 'Flag', 'DiSTA', 'PatDSAMuon', 'SV', 'Tau', 'ChsMET']\n"
     ]
    }
   ],
   "source": [
    "# file_path = \"/Users/mascella/cernbox/Analysis_files/HeavyNeutrino_trilepton_M-1_V-0_0949736805647_mu_massiveAndCKM_LO/merged_0.root\"\n",
    "file_path = \"/Users/mascella/cernbox_shared_with_you/test/displaced_dimuon.root\"\n",
    "# events = uproot.concatenate([file_path_1+\":Events\", file_path_2+\":Events\"])\n",
    "events = NanoEventsFactory.from_root(file_path, schemaclass=NanoAODSchema).events()\n",
    "print(events.fields)"
   ]
  },
  {
   "cell_type": "code",
   "execution_count": 60,
   "id": "643d4a5e",
   "metadata": {},
   "outputs": [
    {
     "name": "stdout",
     "output_type": "stream",
     "text": [
      "18750\n",
      "10143\n",
      "18750\n"
     ]
    }
   ],
   "source": [
    "hnl_muons = events.GenPart[(np.abs(events.GenPart.pdgId) == 13) & (events.GenPart.status == 1) & (\n",
    "                events.GenPart.distinctParentIdxG != -1)]\n",
    "print(len(events))\n",
    "events[\"gen_muon\"] = hnl_muons[hnl_muons.distinctParent.pdgId == 9900012]\n",
    "print(sum(ak.num(events[\"gen_muon\"].pt, axis=-1)==2))"
   ]
  },
  {
   "cell_type": "code",
   "execution_count": 67,
   "id": "808ccfe0",
   "metadata": {},
   "outputs": [
    {
     "name": "stdout",
     "output_type": "stream",
     "text": [
      "15000\n",
      "15000\n",
      "[-96.5, -73.2, -187, 351, -309, -277, 58.1, ... -41.5, 4.36, -256, -166, -0.893, 224]\n"
     ]
    }
   ],
   "source": [
    "gen_muons = events.GenPart[(np.abs(events.GenPart.pdgId) == 13) & (events.GenPart.status == 1) & (\n",
    "                events.GenPart.distinctParentIdxG != -1)]\n",
    "print(len(events))\n",
    "events[\"gen_muons\"] = gen_muons[gen_muons.distinctParent.pdgId > 1e4]\n",
    "print(sum(ak.num(events[\"gen_muons\"].pt, axis=-1)==2))\n",
    "ak.sum(events.gen_muons.vy[:, 0] == events.gen_muons.vy[:, 1])\n",
    "print(events.gen_muons.vy[:, 0])"
   ]
  },
  {
   "cell_type": "code",
   "execution_count": 26,
   "id": "f39ff100",
   "metadata": {},
   "outputs": [
    {
     "name": "stdout",
     "output_type": "stream",
     "text": [
      "[[7.6], [5.19], [13.8], [-3.43], [1.12], ... [42.8], [7.32], [61.8], [14.1], [32.5]]\n",
      "13385\n"
     ]
    },
    {
     "data": {
      "image/png": "[encoded data removed]",
      "text/plain": [
       "<Figure size 432x288 with 1 Axes>"
      ]
     },
     "metadata": {
      "needs_background": "light"
     },
     "output_type": "display_data"
    }
   ],
   "source": [
    "dimuons = events.DiDSAMuon\n",
    "# take only events with at least 1 dimuon\n",
    "dimuons = dimuons[ak.num(dimuons, axis=-1)>0]\n",
    "dimuons = dimuons[ak.argmax(dimuons.pt, axis=-1, keepdims=True)]\n",
    "x = dimuons.vtx_x\n",
    "y = dimuons.vtx_y\n",
    "ex = dimuons.vtx_ex\n",
    "ey = dimuons.vtx_ey\n",
    "\n",
    "print(x)\n",
    "print(len(ak.flatten(x, axis=-1)))\n",
    "\n",
    "dxy = np.sqrt(x**2 + y**2)\n",
    "dxy_err = np.sqrt(x**2 * ex**2 + y**2 * ey**2) / dxy\n",
    "dxy_sig = dxy/dxy_err\n",
    "\n",
    "# weight = events.genWeight[ak.num(x, axis=-1)>0]\n",
    "\n",
    "plt.hist(ak.flatten(dxy_err, axis=-1), bins=100) #, weights=ak.flatten(weight, axis=-1))\n",
    "plt.show()"
   ]
  },
  {
   "cell_type": "code",
   "execution_count": 33,
   "id": "a2501c29",
   "metadata": {},
   "outputs": [],
   "source": [
    "from array import array\n",
    "sv_prob_cut = 1e-5\n",
    "dxy_flat = array(\"d\", ak.flatten(dxy[dimuons.svprob>sv_prob_cut], axis=-1))\n",
    "dxy_err_flat = array(\"d\", ak.flatten(dxy_err[dimuons.svprob>sv_prob_cut], axis=-1))\n",
    "dxy_sig_flat = array(\"d\", ak.flatten(dxy_sig[dimuons.svprob>sv_prob_cut], axis=-1))\n",
    "# dxy_flat = array(\"d\", ak.flatten(dxy, axis=-1))\n",
    "# dxy_err_flat = array(\"d\", ak.flatten(dxy_err, axis=-1))"
   ]
  },
  {
   "cell_type": "code",
   "execution_count": 34,
   "id": "a6fa9cc6",
   "metadata": {},
   "outputs": [
    {
     "name": "stderr",
     "output_type": "stream",
     "text": [
      "Warning in <TCanvas::Constructor>: Deleting canvas with same name: c\n",
      "Warning in <TROOT::Append>: Replacing existing TH1: h (Potential memory leak).\n",
      "Info in <TCanvas::Print>: pdf file dxy_sig_VS_dxy_HNLm1_prob1e-5.pdf has been created\n"
     ]
    }
   ],
   "source": [
    "c = ROOT.TCanvas(\"c\",\"\", 1)\n",
    "hist = ROOT.fill_2d_histo(dxy_flat, dxy_err_flat, 100, 0, 500, 100, 0, 120)\n",
    "hist.SetStats(0)\n",
    "hist.Draw(\"colz\")\n",
    "ROOT.gPad.SetLogz()\n",
    "# hist.GetXaxis().SetTitle(\"L_{xy} [cm]\")\n",
    "# hist.GetYaxis().SetTitle(\"#sigma_{L_{xy}} [cm]\")\n",
    "hist = set_hist2d_style(hist, \"\", \"L_{xy} [cm]\", \"#sigma_{L_{xy}} [cm]\")\n",
    "ROOT.gPad.SetLeftMargin(0.2)\n",
    "ROOT.gPad.SetBottomMargin(0.2)\n",
    "\n",
    "# c.Draw()\n",
    "c.Print(\"dxy_sig_VS_dxy_HNLm1_prob1e-5.pdf\")"
   ]
  },
  {
   "cell_type": "code",
   "execution_count": 11,
   "id": "32c2cd12",
   "metadata": {},
   "outputs": [
    {
     "name": "stderr",
     "output_type": "stream",
     "text": [
      "Warning in <TROOT::Append>: Replacing existing TH1: h (Potential memory leak).\n"
     ]
    },
    {
     "data": {
      "image/png": "[encoded data removed]",
      "text/plain": [
       "<IPython.core.display.Image object>"
      ]
     },
     "metadata": {},
     "output_type": "display_data"
    }
   ],
   "source": [
    "c = ROOT.TCanvas()\n",
    "hist = ROOT.fill_histo(dxy_sig_flat, 100, 0, 80)\n",
    "# hist.SetStats(0)\n",
    "hist.Draw()\n",
    "hist.GetYaxis().SetTitle(\"counts\")\n",
    "hist.GetXaxis().SetTitle(\"L_{xy}/#sigma_{L_{xy}}\")\n",
    "hist.GetXaxis().SetTitleOffset(1.3)\n",
    "ROOT.gPad.SetLogy()\n",
    "\n",
    "c.Draw()\n",
    "# c.Print(\"dxy_sig_HNLm1_prob5.pdf\")"
   ]
  },
  {
   "cell_type": "code",
   "execution_count": 35,
   "id": "532a1b27",
   "metadata": {},
   "outputs": [
    {
     "name": "stdout",
     "output_type": "stream",
     "text": [
      "18750\n",
      "[[19], [1.51, 16.2], [19.8, 16.4], [10, ... 5.2, 2.09], [22], [13.1], [14.2, 27.5]]\n",
      "10149\n",
      "8335\n",
      "11604\n"
     ]
    }
   ],
   "source": [
    "sv_prob_cut = 1e-5\n",
    "hnl = events.GenPart[events.GenPart.pdgId == 9900012] \n",
    "print(len(hnl))\n",
    "hnl_muon = events.GenPart[(np.abs(events.GenPart.pdgId) == 13) & (events.GenPart.status == 1) & (\n",
    "                        events.GenPart.distinctParentIdxG != -1)]\n",
    "hnl_muon = hnl_muon[hnl_muon.distinctParent.pdgId == 9900012]\n",
    "print(hnl_muon.pt)\n",
    "hnl_events = events[ak.num(hnl_muon.pt, axis=-1)>1]\n",
    "print(len(hnl_events))\n",
    "hnl_dimuons = hnl_events.DiDSAMuon\n",
    "hnl_dimuons = hnl_dimuons[ak.num(hnl_dimuons, axis=-1)>0]\n",
    "# hnl_dimuons = hnl_dimuons[ak.argmax(hnl_dimuons.pt, axis=-1, keepdims=True)]\n",
    "\n",
    "print(len(hnl_dimuons))\n",
    "x = hnl_dimuons.vtx_x\n",
    "y = hnl_dimuons.vtx_y\n",
    "dxy = np.sqrt(x**2 + y**2)\n",
    "\n",
    "den = dxy\n",
    "num = dxy[hnl_dimuons.svprob>sv_prob_cut]\n",
    "print(ak.sum(ak.num(dxy, axis=-1)))\n",
    "# ak.sum(hnl_dimuons.svprob<0.05)"
   ]
  },
  {
   "cell_type": "code",
   "execution_count": 36,
   "id": "a352708d",
   "metadata": {},
   "outputs": [
    {
     "data": {
      "text/plain": [
       "(array([1.338e+03, 1.569e+03, 9.690e+02, 7.100e+02, 5.350e+02, 4.310e+02,\n",
       "        4.130e+02, 3.810e+02, 3.250e+02, 3.400e+02, 3.180e+02, 3.010e+02,\n",
       "        2.670e+02, 2.570e+02, 2.490e+02, 2.640e+02, 2.310e+02, 2.150e+02,\n",
       "        1.940e+02, 1.740e+02, 1.650e+02, 1.750e+02, 1.590e+02, 1.510e+02,\n",
       "        1.450e+02, 1.510e+02, 1.150e+02, 1.120e+02, 8.900e+01, 7.000e+01,\n",
       "        6.500e+01, 7.300e+01, 4.000e+01, 2.800e+01, 1.000e+00, 2.000e+00,\n",
       "        1.000e+00, 1.000e+00, 2.000e+00, 0.000e+00, 0.000e+00, 0.000e+00,\n",
       "        1.000e+00, 0.000e+00, 0.000e+00, 0.000e+00, 0.000e+00, 0.000e+00,\n",
       "        0.000e+00, 0.000e+00]),\n",
       " array([  0.,  10.,  20.,  30.,  40.,  50.,  60.,  70.,  80.,  90., 100.,\n",
       "        110., 120., 130., 140., 150., 160., 170., 180., 190., 200., 210.,\n",
       "        220., 230., 240., 250., 260., 270., 280., 290., 300., 310., 320.,\n",
       "        330., 340., 350., 360., 370., 380., 390., 400., 410., 420., 430.,\n",
       "        440., 450., 460., 470., 480., 490., 500.], dtype=float32),\n",
       " <BarContainer object of 50 artists>)"
      ]
     },
     "execution_count": 36,
     "metadata": {},
     "output_type": "execute_result"
    },
    {
     "data": {
      "image/png": "[encoded data removed]",
      "text/plain": [
       "<Figure size 432x288 with 1 Axes>"
      ]
     },
     "metadata": {
      "needs_background": "light"
     },
     "output_type": "display_data"
    }
   ],
   "source": [
    "plt.hist(ak.flatten(den, axis=-1), bins=50, range=[0, 500])\n",
    "plt.hist(ak.flatten(num, axis=-1), bins=50, range=[0, 500])"
   ]
  },
  {
   "cell_type": "code",
   "execution_count": 42,
   "id": "05eaf840",
   "metadata": {},
   "outputs": [
    {
     "name": "stderr",
     "output_type": "stream",
     "text": [
      "Warning in <TCanvas::Constructor>: Deleting canvas with same name: c2\n",
      "Warning in <TROOT::Append>: Replacing existing TH1: h (Potential memory leak).\n",
      "Warning in <TROOT::Append>: Replacing existing TH1: h (Potential memory leak).\n",
      "Warning in <TGraphAsymmErrors::Divide>: Number of graph points is different than histogram bins - 2 points have been skipped\n",
      "Info in <TCanvas::Print>: pdf file sv_eff_recoLxy.pdf has been created\n"
     ]
    }
   ],
   "source": [
    "num = array(\"d\", ak.flatten(num, axis=-1))\n",
    "den = array(\"d\", ak.flatten(den, axis=-1))\n",
    "c = ROOT.TCanvas(\"c2\", \"\", 1)\n",
    "hist_num = ROOT.fill_histo(num, 50, 0, 500)\n",
    "hist_den = ROOT.fill_histo(den, 50, 0, 500)\n",
    "ratio = ROOT.TGraphAsymmErrors()\n",
    "ratio.Divide(hist_num, hist_den)\n",
    "ratio.SetLineColor(ROOT.kBlue)\n",
    "ratio.SetMarkerColor(ROOT.kBlue)\n",
    "# hist.SetStats(0)\n",
    "ratio = set_hist2d_style(ratio, \"\", \"L_{xy} [cm]\", \"Efficiency\")\n",
    "ratio.Draw()\n",
    "ROOT.gPad.SetLeftMargin(0.2)\n",
    "ROOT.gPad.SetBottomMargin(0.2)\n",
    "\n",
    "# c.Draw()\n",
    "c.Print(\"sv_eff_recoLxy.pdf\")"
   ]
  },
  {
   "cell_type": "code",
   "execution_count": null,
   "id": "4abfcb67",
   "metadata": {},
   "outputs": [],
   "source": []
  }
 ],
 "metadata": {
  "kernelspec": {
   "display_name": "Python 3",
   "language": "python",
   "name": "python3"
  },
  "language_info": {
   "codemirror_mode": {
    "name": "ipython",
    "version": 3
   },
   "file_extension": ".py",
   "mimetype": "text/x-python",
   "name": "python",
   "nbconvert_exporter": "python",
   "pygments_lexer": "ipython3",
   "version": "3.7.10"
  }
 },
 "nbformat": 4,
 "nbformat_minor": 5
}
