{
 "cells": [
  {
   "cell_type": "code",
   "execution_count": 22,
   "id": "96567eb2",
   "metadata": {},
   "outputs": [],
   "source": [
    "import sys\n",
    "import re\n",
    "sys.path.append('../')\n",
    "import pickle\n",
    "import matplotlib.pyplot as plt\n",
    "from matplotlib.backends.backend_pdf import PdfPages\n",
    "from array import array\n",
    "from coffea import hist\n",
    "import matplotlib.pyplot as plt\n",
    "from muon_analysis import MuonAnalysis\n",
    "import awkward as ak\n",
    "import numpy as np"
   ]
  },
  {
   "cell_type": "code",
   "execution_count": 23,
   "id": "a26743bf",
   "metadata": {},
   "outputs": [],
   "source": [
    "result_dir = \"/Users/mascella/workspace/disp_muon_studies/Results/\"\n",
    "tag = '220920_v2'\n",
    "with open(result_dir + f'result_{tag}.pkl', 'rb') as f:\n",
    "    result = pickle.load(f)"
   ]
  },
  {
   "cell_type": "code",
   "execution_count": 3,
   "id": "867a3c24",
   "metadata": {},
   "outputs": [
    {
     "name": "stdout",
     "output_type": "stream",
     "text": [
      "{'2Mu2J high Lxy': 0.0022123893805309734, '2Mu2J low Lxy': 0.0001643925694558606}\n"
     ]
    }
   ],
   "source": [
    "scales = {}\n",
    "for ds in [\"2Mu2J high Lxy\", \"2Mu2J low Lxy\"]:\n",
    "    scales[ds] = 1./result[\"n_ev_gen_matching\"][ds]\n",
    "print(scales)\n",
    "with PdfPages(f'{tag}_plots.pdf') as pdf:\n",
    "    for var, axis in MuonAnalysis.get_var_axis_pairs():\n",
    "        result[var].scale(scales, axis=\"ds\")\n",
    "        hist.plot1d(result[var][\"2Mu2J low Lxy\"])\n",
    "        hist.plot1d(result[var][\"2Mu2J high Lxy\"])\n",
    "        plt.title(var)\n",
    "        pdf.savefig()\n",
    "#         plt.show()\n",
    "        plt.close()"
   ]
  },
  {
   "cell_type": "code",
   "execution_count": 36,
   "id": "7f911aef",
   "metadata": {},
   "outputs": [
    {
     "name": "stdout",
     "output_type": "stream",
     "text": [
      "[{x: 1, y: 2, index: 0}, {x: 2, y: 4, index: 1, ... {x: 5, y: 10, index: 4}]\n",
      "[{x: 1, y: 2, index: 0}, {x: 2, y: 4, index: 1, ... {x: 6, y: 10, index: 4}]\n"
     ]
    },
    {
     "data": {
      "text/plain": [
       "<Array [{y: 2, index: 0, x: 100, ... x: 100}] type='5 * {\"y\": int64, \"index\": in...'>"
      ]
     },
     "execution_count": 36,
     "metadata": {},
     "output_type": "execute_result"
    }
   ],
   "source": [
    "a = ak.Array({\"x\": [1,2,3,4,5], \"y\": [2,4,6,8,10]})\n",
    "b = ak.Array({\"x\": [2,3,4,5,6], \"y\": [2,4,6,8,10]})\n",
    "a[\"index\"] = range(0, len(a))\n",
    "b[\"index\"] = range(0, len(b))\n",
    "print(a)\n",
    "a = ak.where(np.isin(np.array(a.index), [0,1]), a, b)\n",
    "print(a)\n"
   ]
  },
  {
   "cell_type": "code",
   "execution_count": 54,
   "id": "12ba9fab",
   "metadata": {},
   "outputs": [
    {
     "data": {
      "text/plain": [
       "array([0, 1, 7, 9])"
      ]
     },
     "execution_count": 54,
     "metadata": {},
     "output_type": "execute_result"
    }
   ],
   "source": [
    "a_np = np.array([0,1,2,3])\n",
    "b_np = np.array([2,3])\n",
    "a_index_in_b = np.array(range(0, len(a_np)))[np.isin(range(0, len(a_np)), b_np)]\n",
    "a_np[a_index_in_b] = np.array([7,9])\n",
    "a_np"
   ]
  },
  {
   "cell_type": "code",
   "execution_count": null,
   "id": "26b7a4b3",
   "metadata": {},
   "outputs": [],
   "source": []
  }
 ],
 "metadata": {
  "kernelspec": {
   "display_name": "Python 3",
   "language": "python",
   "name": "python3"
  },
  "language_info": {
   "codemirror_mode": {
    "name": "ipython",
    "version": 3
   },
   "file_extension": ".py",
   "mimetype": "text/x-python",
   "name": "python",
   "nbconvert_exporter": "python",
   "pygments_lexer": "ipython3",
   "version": "3.7.10"
  }
 },
 "nbformat": 4,
 "nbformat_minor": 5
}
